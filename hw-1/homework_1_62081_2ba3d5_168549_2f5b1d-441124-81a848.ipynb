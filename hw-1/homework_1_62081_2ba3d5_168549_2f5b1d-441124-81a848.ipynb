{
 "cells": [
  {
   "cell_type": "markdown",
   "metadata": {},
   "source": [
    "# <center> Homework 1 </center>"
   ]
  },
  {
   "cell_type": "markdown",
   "metadata": {},
   "source": [
    "# 0. Где мы сейчас?\n",
    "<img src=\"https://upload.wikimedia.org/wikipedia/commons/thumb/3/38/Jupyter_logo.svg/1200px-Jupyter_logo.svg.png\" width=\"150\">\n",
    "\n",
    "[Jupyter Notebook](https://jupyter.org/) - интерактивная среда для запуска программного кода в браузере. Удобный инструмент для анализа данных, который используется многими специалистами по data science. Позволяет выполнять отдельные ячейки с кодом, а не всю программу сразу, что очень удобно при знакомстве с данными."
   ]
  },
  {
   "cell_type": "markdown",
   "metadata": {},
   "source": [
    "# 1. Python\n",
    "> Python - это свободный интерпретируемый объектно-ориентированный расширяемый встраиваемый язык программирования очень высокого уровня \n",
    "\n",
    ">*(Г.Россум, Ф.Л.Дж.Дрейк, Д.С.Откидач \"Язык программирования Python\").*\n",
    "\n",
    "А если без цитат, то питон - это просто очень крутой язык, созданный в 1991 году [Великодушным пожизненным диктатором](https://ru.wikipedia.org/wiki/%D0%92%D0%B5%D0%BB%D0%B8%D0%BA%D0%BE%D0%B4%D1%83%D1%88%D0%BD%D1%8B%D0%B9_%D0%BF%D0%BE%D0%B6%D0%B8%D0%B7%D0%BD%D0%B5%D0%BD%D0%BD%D1%8B%D0%B9_%D0%B4%D0%B8%D0%BA%D1%82%D0%B0%D1%82%D0%BE%D1%80) Гвидо ван Россумом и названный в честь любимого им шоу [Monty Python's Flying Circus](https://en.wikipedia.org/wiki/Monty_Python%27s_Flying_Circus)\n",
    "\n",
    "<img src=\"https://advancelocal-adapter-image-uploads.s3.amazonaws.com/image.oregonlive.com/home/olive-media/width2048/img/tv/photo/2018/10/10/montycastjpg-7ef393e2355a42aa.jpg\" width=\"300\">"
   ]
  },
  {
   "cell_type": "markdown",
   "metadata": {},
   "source": [
    "# 2. Anaconda\n",
    "\n",
    "<img src=\"https://cdn-images-1.medium.com/max/1600/0*MVkCW8_Bmj-nuAnI.png\" width=\"300\">\n",
    "\n",
    "[Сборка Anaconda](https://www.anaconda.com/products/individual) включает очень много полезных библиотек для анализа данных. \n",
    "\n",
    "Среди наиболее популярных библиотек:\n",
    " - <a href=\"http://numpy.org\">Numpy</a> - это один из основных пакетов для математических вычислений. Он содержит средства для работы с многомерными массивами и высокоуровневыми математическими функциями\n",
    " - <a href=\"https://www.scipy.org/\">SciPy</a> - научные вычисления. Методы оптимизации, интегрирования, модули обработки сигналов и изображений, статистика, линейная алгебра, сплайны, кластеризация и многое другое\n",
    " -  <a href=\"http://pandas.pydata.org/\">Pandas</a> - основная библиотека для обработки и анализа данных. Предназначена для данных разной природы - матричных, панельных данных, временных рядов. Претендует на звание самого мощного и гибкого средства для анализа данных с открытым исходным кодом\n",
    " - <a href=\"http://scikit-learn.org/stable/\">Scikit-learn</a> - реализация очень многих методов машинного обучения с отличной документацией. \n",
    " - <a href=\"http://http://matplotlib.org/\">matplotlib</a> - хорошая библиотека для визуализации данных"
   ]
  },
  {
   "cell_type": "markdown",
   "metadata": {},
   "source": [
    "# 3. Задачки"
   ]
  },
  {
   "cell_type": "markdown",
   "metadata": {},
   "source": [
    "## Задача 1\n",
    "$N$ хоббитов делят $K$ кусков эльфийского хлеба поровну, не делящийся нацело остаток остается в корзинке у Сэма. Напишите функцию, которая принимает на вход параметры $N$ и $K$ и возвращает два числа: $x$ - cколько кусков эльфиского хлеба достанется каждому хоббиту, и $y$ - сколько кусков остаётся в корзинке."
   ]
  },
  {
   "cell_type": "code",
   "execution_count": 38,
   "metadata": {},
   "outputs": [],
   "source": [
    "def share_bread(N, K):\n",
    "    # your code here\n",
    "    x = K // N  # Количество кусков, получаемых каждым хоббитом\n",
    "    y = K % N   # Количество оставшихся кусков в корзинке\n",
    "    return x, y\n",
    "\n",
    "# если в функции всё верно, то после выполнения этой строчки, не должно выскакивать ошибок\n",
    "assert share_bread(N=3, K=14) == (4, 2)"
   ]
  },
  {
   "cell_type": "markdown",
   "metadata": {},
   "source": [
    "## Задача 2\n",
    "\n",
    "В копях Мории хоббиты нашли стену, на которой высечены разные натуральные числа. Согласно древним сказаниям, это даты сражений. Хоббиты знают, что сражения происходили только по високосным годам. Помогите хоббитам определить, является ли год с данным числом датой великого сражения. Если это так, то верните строку \"YOU SHALL PASS\", иначе верните \"YOU SHALL NOT PASS\". Напомним, что в соответствии с хоббитским календарем, год является високосным, если его номер кратен 4, но не кратен 100, а также если он кратен 400."
   ]
  },
  {
   "cell_type": "code",
   "execution_count": 53,
   "metadata": {},
   "outputs": [],
   "source": [
    "def leap_year(year):\n",
    "    # your code here\n",
    "    if (year % 4 == 0 and year % 100 != 0) or (year % 400 == 0):\n",
    "        return \"YOU SHALL PASS\"\n",
    "    return \"YOU SHALL NOT PASS\"\n",
    "\n",
    "assert leap_year(5) == 'YOU SHALL NOT PASS'"
   ]
  },
  {
   "cell_type": "markdown",
   "metadata": {},
   "source": [
    "## Задача 3\n",
    "<img src=\"http://i0.kym-cdn.com/photos/images/original/001/187/255/5e9.gif\" width=300>\n",
    "Для могущественного магического ритуала Гендальфу необходимо быстро подсчитывать площадь своего амулета, который умеет менять размеры. Известно, что амулет имеет форму треугольника и Гендальф знает длину каждой из сторон. Напишите функцию, которая считает площадь амулета по трем сторонам.  \n",
    "\n",
    "Подсказка: используйте формулу Герона\n",
    "$$ S = \\sqrt{p(p-a)(p-b)(p-c)} $$\n",
    "$$ p = \\frac{a + b + c}{2}$$\n"
   ]
  },
  {
   "cell_type": "code",
   "execution_count": 58,
   "metadata": {},
   "outputs": [],
   "source": [
    "def amulet_area(a, b, c):\n",
    "    # your code here\n",
    "    p = (a + b + c) / 2\n",
    "    S = (p * (p - a) * (p - b) * (p - c)) ** (0.5)\n",
    "    return S\n",
    "\n",
    "assert amulet_area(3, 4, 5) == 6"
   ]
  },
  {
   "cell_type": "markdown",
   "metadata": {},
   "source": [
    "## Задача 4\n",
    "\n",
    "Хоббиты собираются пешком идти до Мордора и им нужно подсчитать расстояние, которое им предстоит пройти. Хоббиты смогли вспомнить сразу несколько метрик расстояния: евклидово, манхэттена и косинусное, так что ваша задача - напистаь функцию под каждую из них. Важное условие - используйте только базовые функции numpy для решения.\n",
    "\n",
    "\n",
    "* Евклидово расстояние\n",
    "$$ d(a, b) = \\sqrt{\\sum_i (a_i - b_i)^2} $$\n",
    "* Расстояние Манхэттена\n",
    "$$ d(a, b) = \\sum_i |a_i - b_i| $$\n",
    "* Косинусное расстояние\n",
    "$$ d(a, b) = 1 - \\frac{a^\\top b}{||a||_2\\cdot||b||_2}$$"
   ]
  },
  {
   "cell_type": "code",
   "execution_count": 77,
   "metadata": {},
   "outputs": [],
   "source": [
    "def cal_euclidean(a, b):    \n",
    "    ## Евклидово расстояние\n",
    "    sum_squared_diff = 0\n",
    "    for i in range(len(a)):\n",
    "        sum_squared_diff += (a[i] - b[i]) ** 2    \n",
    "    distance = sum_squared_diff ** 0.5\n",
    "    return distance\n",
    "\n",
    "def cal_manhattan(a, b):    \n",
    "    ## Расстояние Манхэттена\n",
    "    distance = 0\n",
    "    for i in range(len(a)):\n",
    "        distance += abs(a[i] - b[i])\n",
    "    return distance\n",
    "\n",
    "def cal_cosine(a, b):    \n",
    "    ## Косинусное расстояние\n",
    "    skalar_sum = sum(x * y for x, y in zip(a, b))\n",
    "    vector1 = sum(x ** 2 for x in a) ** 0.5\n",
    "    vector2 = sum(y ** 2 for y in b) ** 0.5\n",
    "    distance = 1 - (skalar_sum / (vector1 * vector2))\n",
    "    return distance"
   ]
  },
  {
   "cell_type": "code",
   "execution_count": 98,
   "metadata": {},
   "outputs": [
    {
     "name": "stdout",
     "output_type": "stream",
     "text": [
      "20.85665361461421\n",
      "59\n",
      "0.6743869046996815\n"
     ]
    }
   ],
   "source": [
    "import numpy as np # В задании не хватало импорта библиотеки\n",
    "a = np.random.randint(-10, 10, size=10)\n",
    "b = np.random.randint(-10, 10, size=10)\n",
    "print(cal_euclidean(a, b))\n",
    "print(cal_manhattan(a, b))\n",
    "print(cal_cosine(a, b))"
   ]
  },
  {
   "cell_type": "markdown",
   "metadata": {},
   "source": [
    "## Задача 5\n",
    "\n",
    "Ну и напоследок, еще немного практики numpy, без которой не обходится ни один хоббит.\n"
   ]
  },
  {
   "cell_type": "markdown",
   "metadata": {},
   "source": [
    "Создайте случайный array (`np.random.rand()`) длинной 100. Преобразуйте его так, чтобы\n",
    "* Максимальный элемент(ы) был равен 1\n",
    "* Минимальный элемент(ы) был равен 0\n",
    "* Остальные элементы в итнтервале от 0 до 1 остаются прежними"
   ]
  },
  {
   "cell_type": "code",
   "execution_count": 109,
   "metadata": {},
   "outputs": [
    {
     "name": "stdout",
     "output_type": "stream",
     "text": [
      "1.0 0.0\n",
      "[0.         0.02247845 0.43537819 0.4379296  0.47701722 0.74785814\n",
      " 0.8728067  0.02895747 0.49771593 0.91410947 0.72427841 0.14543978\n",
      " 0.14193911 0.40163279 0.48865398 0.74304361 0.31474345 0.69337192\n",
      " 0.18967934 0.16726213 0.37162037 0.83798217 0.0858542  0.42725498\n",
      " 0.73419855 0.13027955 0.06381651 0.91532849 0.03269706 0.54509974\n",
      " 0.31999835 0.20936666 0.76388971 0.15424725 0.23534081 0.15728321\n",
      " 0.76104812 0.43062026 0.93980805 0.50111188 0.10366962 0.0096931\n",
      " 0.57656593 0.33128158 0.47786858 0.08206969 0.70605737 0.12710209\n",
      " 0.35320915 0.99989293 0.14145722 0.45227327 0.58676898 0.50668486\n",
      " 0.5656039  0.66136367 0.74083074 0.93317281 0.96215685 0.79187763\n",
      " 0.59125516 0.07969401 0.98452353 0.75639021 0.5197553  0.9566628\n",
      " 0.93481243 0.20056085 0.17768018 0.6153204  0.6368004  0.13710164\n",
      " 0.90634464 0.04338217 0.36178374 0.30731567 0.881757   0.03618461\n",
      " 0.74431422 0.05866227 0.54609978 0.38163873 0.95110398 0.4764651\n",
      " 0.77323738 0.84537794 0.90117084 0.35419226 0.87721809 0.20607586\n",
      " 0.27870849 0.65637515 0.61863196 0.69803058 0.2534326  0.4826401\n",
      " 0.28249441 0.61289564 0.12097704 1.        ]\n"
     ]
    }
   ],
   "source": [
    "import numpy as np\n",
    "array_length = 98\n",
    "temp_array = np.random.rand(array_length) # gen 98 array\n",
    "my_array = np.concatenate(([0], temp_array, [1]))\n",
    "print(np.max(my_array), np.min(my_array))\n",
    "print(my_array)"
   ]
  },
  {
   "cell_type": "markdown",
   "metadata": {},
   "source": [
    "Создайте array размером $5 \\times 6$ с целыми числами в интервале [0,50]. Напечатайте колонку, которая содержит максимальный элемент полученной матрицы "
   ]
  },
  {
   "cell_type": "code",
   "execution_count": 116,
   "metadata": {},
   "outputs": [
    {
     "name": "stdout",
     "output_type": "stream",
     "text": [
      "Shape:  (5, 6)\n",
      "Array\n",
      "[[15 41 42 25 48 41]\n",
      " [42  9 44  0 34 41]\n",
      " [26 50 38 47 25 36]\n",
      " [31 15 39 39 19 39]\n",
      " [49 27 26 22 38 42]]\n",
      "50\n"
     ]
    }
   ],
   "source": [
    "my_array =  np.random.randint(51, size=(5, 6))\n",
    "selected_column = max([max(x) for x in my_array])\n",
    "print('Shape: ',my_array.shape)\n",
    "print('Array')\n",
    "print(my_array)\n",
    "print(selected_column)"
   ]
  },
  {
   "cell_type": "markdown",
   "metadata": {},
   "source": [
    "Напишите функцию, которая принимает на вохд матрицу (array) X и возвращает все её уникальные строки в виде новой матрицы."
   ]
  },
  {
   "cell_type": "code",
   "execution_count": 121,
   "metadata": {},
   "outputs": [],
   "source": [
    "def get_unique_rows(X):\n",
    "    unique_set = {tuple(row) for row in X}\n",
    "    return [list(row) for row in unique_set]"
   ]
  },
  {
   "cell_type": "code",
   "execution_count": 122,
   "metadata": {},
   "outputs": [
    {
     "name": "stdout",
     "output_type": "stream",
     "text": [
      "[[5 4 4]\n",
      " [4 4 5]\n",
      " [4 4 4]\n",
      " [5 4 5]\n",
      " [4 5 5]\n",
      " [4 5 5]\n",
      " [4 4 5]\n",
      " [5 5 4]\n",
      " [5 4 5]\n",
      " [5 4 4]]\n"
     ]
    }
   ],
   "source": [
    "X = np.random.randint(4, 6, size=(10,3))\n",
    "print(X)"
   ]
  },
  {
   "cell_type": "code",
   "execution_count": 123,
   "metadata": {},
   "outputs": [
    {
     "data": {
      "text/plain": [
       "[[np.int64(5), np.int64(4), np.int64(5)],\n",
       " [np.int64(4), np.int64(4), np.int64(5)],\n",
       " [np.int64(5), np.int64(4), np.int64(4)],\n",
       " [np.int64(4), np.int64(4), np.int64(4)],\n",
       " [np.int64(5), np.int64(5), np.int64(4)],\n",
       " [np.int64(4), np.int64(5), np.int64(5)]]"
      ]
     },
     "execution_count": 123,
     "metadata": {},
     "output_type": "execute_result"
    }
   ],
   "source": [
    "get_unique_rows(X)"
   ]
  }
 ],
 "metadata": {
  "kernelspec": {
   "display_name": "Python 3",
   "language": "python",
   "name": "python3"
  },
  "language_info": {
   "codemirror_mode": {
    "name": "ipython",
    "version": 3
   },
   "file_extension": ".py",
   "mimetype": "text/x-python",
   "name": "python",
   "nbconvert_exporter": "python",
   "pygments_lexer": "ipython3",
   "version": "3.12.0rc1"
  },
  "varInspector": {
   "cols": {
    "lenName": 16,
    "lenType": 16,
    "lenVar": 40
   },
   "kernels_config": {
    "python": {
     "delete_cmd_postfix": "",
     "delete_cmd_prefix": "del ",
     "library": "var_list.py",
     "varRefreshCmd": "print(var_dic_list())"
    },
    "r": {
     "delete_cmd_postfix": ") ",
     "delete_cmd_prefix": "rm(",
     "library": "var_list.r",
     "varRefreshCmd": "cat(var_dic_list()) "
    }
   },
   "types_to_exclude": [
    "module",
    "function",
    "builtin_function_or_method",
    "instance",
    "_Feature"
   ],
   "window_display": false
  }
 },
 "nbformat": 4,
 "nbformat_minor": 2
}
